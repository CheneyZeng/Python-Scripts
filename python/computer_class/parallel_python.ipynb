{
 "cells": [
  {
   "cell_type": "code",
   "execution_count": 12,
   "metadata": {
    "collapsed": false
   },
   "outputs": [],
   "source": [
    "from IPython.display import Image\n",
    "import contexttimer\n",
    "import time\n",
    "import math\n",
    "from numba import jit\n",
    "import multiprocessing\n",
    "import threading\n",
    "from joblib import Parallel\n",
    "import logging\n",
    "import numpy as np"
   ]
  },
  {
   "cell_type": "code",
   "execution_count": 2,
   "metadata": {
    "collapsed": true
   },
   "outputs": [],
   "source": [
    "def wait_loop(n):\n",
    "    \"\"\"\n",
    "    Function under test.\n",
    "    \"\"\"\n",
    "    for m in range(n):\n",
    "        for l in range(m):\n",
    "            for j in range(l):\n",
    "                for i in range(j):\n",
    "                    i=i+4\n",
    "                    out=math.sqrt(i)\n",
    "                    out=out**2.\n",
    "    return out"
   ]
  },
  {
   "cell_type": "code",
   "execution_count": 3,
   "metadata": {
    "collapsed": true
   },
   "outputs": [],
   "source": [
    "@jit('float64(int64)', nopython=True, nogil=True)\n",
    "def wait_loop_nogil(n):\n",
    "    \"\"\"\n",
    "    Function under test.\n",
    "    \"\"\"\n",
    "    for m in range(n):\n",
    "        for l in range(m):\n",
    "            for j in range(l):\n",
    "                for i in range(j):\n",
    "                    i=i+4\n",
    "                    out=math.sqrt(i)\n",
    "                    out=out**2.\n",
    "    return out"
   ]
  },
  {
   "cell_type": "code",
   "execution_count": 4,
   "metadata": {
    "collapsed": true
   },
   "outputs": [],
   "source": [
    "@jit('float64(int64)', nopython=True, nogil=False)\n",
    "def wait_loop_withgil(n):\n",
    "    \"\"\"\n",
    "    Function under test.\n",
    "    \"\"\"\n",
    "    for m in range(n):\n",
    "        for l in range(m):\n",
    "            for j in range(l):\n",
    "                for i in range(j):\n",
    "                    i=i+4\n",
    "                    out=math.sqrt(i)\n",
    "                    out=out**2.\n",
    "    return out"
   ]
  },
  {
   "cell_type": "code",
   "execution_count": 5,
   "metadata": {
    "collapsed": false
   },
   "outputs": [
    {
     "name": "stdout",
     "output_type": "stream",
     "text": [
      "pure python wall time 31.15257935775645 and cpu time 31.09375\n"
     ]
    }
   ],
   "source": [
    "nloops=200\n",
    "with contexttimer.Timer(time.perf_counter) as pure_wall:\n",
    "    with contexttimer.Timer(time.process_time) as pure_cpu:\n",
    "        result=wait_loop(nloops)\n",
    "print('pure python wall time {} and cpu time {}'.format(pure_wall.elapsed,pure_cpu.elapsed))"
   ]
  },
  {
   "cell_type": "code",
   "execution_count": 6,
   "metadata": {
    "collapsed": false
   },
   "outputs": [
    {
     "name": "stdout",
     "output_type": "stream",
     "text": [
      "numba wall time 0.009586053992229893 and cpu time 0.015625\n",
      "numba speed-up factor 3248.7813368261436\n"
     ]
    }
   ],
   "source": [
    "nloops=200\n",
    "with contexttimer.Timer(time.perf_counter) as numba_wall:\n",
    "    with contexttimer.Timer(time.process_time) as numba_cpu:\n",
    "        result=wait_loop_nogil(nloops)\n",
    "print('numba wall time {} and cpu time {}'.format(numba_wall.elapsed,numba_cpu.elapsed))\n",
    "print(\"numba speed-up factor {}\".format((pure_wall.elapsed - numba_wall.elapsed)/numba_wall.elapsed))"
   ]
  },
  {
   "cell_type": "code",
   "execution_count": 7,
   "metadata": {
    "collapsed": false
   },
   "outputs": [
    {
     "name": "stdout",
     "output_type": "stream",
     "text": [
      "numba wall time 0.030602775366951107 and cpu time 0.03125\n",
      "numba speed-up factor 1016.9658212110753\n"
     ]
    }
   ],
   "source": [
    "nloops=200\n",
    "with contexttimer.Timer(time.perf_counter) as numba_wall:\n",
    "    with contexttimer.Timer(time.process_time) as numba_cpu:\n",
    "        result=wait_loop_withgil(nloops)\n",
    "print('numba wall time {} and cpu time {}'.format(numba_wall.elapsed,numba_cpu.elapsed))\n",
    "print(\"numba speed-up factor {}\".format((pure_wall.elapsed - numba_wall.elapsed)/numba_wall.elapsed))"
   ]
  },
  {
   "cell_type": "code",
   "execution_count": 8,
   "metadata": {
    "collapsed": true
   },
   "outputs": [],
   "source": [
    "logging.basicConfig(level=logging.DEBUG,\n",
    "                    format='%(message)s %(threadName)s %(processName)s',\n",
    "                    )\n",
    "\n",
    "def find_ids():\n",
    "    logging.debug('debug logging: ')"
   ]
  },
  {
   "cell_type": "code",
   "execution_count": 9,
   "metadata": {
    "collapsed": false
   },
   "outputs": [
    {
     "name": "stdout",
     "output_type": "stream",
     "text": [
      "[(CPUDispatcher(<function wait_loop_nogil at 0x0000025F8B1327B8>), [1250], {}), (CPUDispatcher(<function wait_loop_nogil at 0x0000025F8B1327B8>), [1250], {}), (CPUDispatcher(<function wait_loop_nogil at 0x0000025F8B1327B8>), [1250], {}), (CPUDispatcher(<function wait_loop_nogil at 0x0000025F8B1327B8>), [1250], {}), (CPUDispatcher(<function wait_loop_nogil at 0x0000025F8B1327B8>), [1250], {}), (CPUDispatcher(<function wait_loop_nogil at 0x0000025F8B1327B8>), [1250], {})]\n"
     ]
    }
   ],
   "source": [
    "njobs=6\n",
    "nprocs=3\n",
    "thread_id_jobs =[(find_ids,[],{}) for i in range(nprocs)]\n",
    "nloops=1250\n",
    "calc_jobs=[(wait_loop_nogil,[nloops],{}) for i in range(njobs)]\n",
    "print(calc_jobs)"
   ]
  },
  {
   "cell_type": "code",
   "execution_count": 10,
   "metadata": {
    "collapsed": false
   },
   "outputs": [
    {
     "name": "stderr",
     "output_type": "stream",
     "text": [
      "debug logging:  Thread-6 MainProcess\n",
      "debug logging:  Thread-7 MainProcess\n",
      "debug logging:  Thread-8 MainProcess\n"
     ]
    },
    {
     "name": "stdout",
     "output_type": "stream",
     "text": [
      "[1250.0, 1250.0, 1250.0, 1250.0, 1250.0, 1250.0]\n",
      "wall time 5.509568361227654 and cpu time 16.171875\n"
     ]
    }
   ],
   "source": [
    "with contexttimer.Timer(time.perf_counter) as wall:\n",
    "    with contexttimer.Timer(time.process_time) as cpu:\n",
    "        with Parallel(n_jobs=nprocs,backend='threading') as parallel:\n",
    "            parallel(thread_id_jobs)\n",
    "            results=parallel(calc_jobs)\n",
    "        print(results)\n",
    "print('wall time {} and cpu time {}'.format(wall.elapsed,cpu.elapsed))"
   ]
  },
  {
   "cell_type": "code",
   "execution_count": 14,
   "metadata": {
    "collapsed": true
   },
   "outputs": [],
   "source": [
    "import numpy as np\n",
    "import zarr\n",
    "import time\n",
    "import datetime\n",
    "import pytz\n",
    "from zarr.util import human_readable_size\n",
    "import dask\n",
    "import dask.array as da\n",
    "from dask.diagnostics import Profiler, ResourceProfiler, CacheProfiler\n",
    "from dask.diagnostics.profile_visualize import visualize"
   ]
  },
  {
   "cell_type": "code",
   "execution_count": 15,
   "metadata": {
    "collapsed": false
   },
   "outputs": [
    {
     "data": {
      "text/plain": [
       "'228.9M'"
      ]
     },
     "execution_count": 15,
     "metadata": {},
     "output_type": "execute_result"
    }
   ],
   "source": [
    "wvel_data = np.random.normal(2000, 1000, size=[8000,7500]).astype(np.float32)\n",
    "human_readable_size(wvel_data.nbytes)"
   ]
  },
  {
   "cell_type": "code",
   "execution_count": 17,
   "metadata": {
    "collapsed": false
   },
   "outputs": [
    {
     "data": {
      "text/plain": [
       "Array(/wvel, (8000, 7500), float32, chunks=(2000, 7500), order=C)\n",
       "  nbytes: 228.9M; nbytes_stored: 273; ratio: 879120.9; initialized: 0/4\n",
       "  compressor: Zlib(level=1)\n",
       "  store: DirectoryStore; synchronizer: ThreadSynchronizer"
      ]
     },
     "execution_count": 17,
     "metadata": {},
     "output_type": "execute_result"
    }
   ],
   "source": [
    "a2 = np.zeros([8000,7500],dtype=np.float32)\n",
    "item='disk2_data'\n",
    "store = zarr.DirectoryStore(item)\n",
    "group=zarr.hierarchy.group(store=store,overwrite=True,synchronizer=zarr.ThreadSynchronizer())\n",
    "the_var='wvel'\n",
    "out_zarr2=group.zeros(the_var,shape=a2.shape,dtype=a2.dtype,chunks=[2000,7500])\n",
    "out_zarr2"
   ]
  },
  {
   "cell_type": "code",
   "execution_count": 18,
   "metadata": {
    "collapsed": false
   },
   "outputs": [
    {
     "data": {
      "text/plain": [
       "dask.array<array-a..., shape=(8000, 7500), dtype=float32, chunksize=(2000, 7500)>"
      ]
     },
     "execution_count": 18,
     "metadata": {},
     "output_type": "execute_result"
    }
   ],
   "source": [
    "da_input = da.from_array(out_zarr2, chunks=out_zarr1.chunks)\n",
    "da_input"
   ]
  },
  {
   "cell_type": "code",
   "execution_count": 19,
   "metadata": {
    "collapsed": false
   },
   "outputs": [
    {
     "data": {
      "text/plain": [
       "dask.array<mean_ag..., shape=(7500,), dtype=float32, chunksize=(7500,)>"
      ]
     },
     "execution_count": 19,
     "metadata": {},
     "output_type": "execute_result"
    }
   ],
   "source": [
    "result=(da_input**2. + da_input**3.).mean(axis=0)\n",
    "result"
   ]
  },
  {
   "cell_type": "code",
   "execution_count": 25,
   "metadata": {
    "collapsed": false
   },
   "outputs": [],
   "source": [
    "from dask.dot import dot_graph\n",
    "#dot_graph(result.dask)"
   ]
  },
  {
   "cell_type": "code",
   "execution_count": 27,
   "metadata": {
    "collapsed": false
   },
   "outputs": [],
   "source": [
    "with Profiler() as prof, ResourceProfiler(dt=0.1) as rprof,\\\n",
    "              CacheProfiler() as cprof:\n",
    "    result = result.compute()"
   ]
  },
  {
   "cell_type": "code",
   "execution_count": 29,
   "metadata": {
    "collapsed": false
   },
   "outputs": [
    {
     "name": "stderr",
     "output_type": "stream",
     "text": [
      "Session output file 'profile.html' already exists, will be overwritten. MainThread MainProcess\n"
     ]
    },
    {
     "data": {
      "text/html": [
       "<div style=\"display: table;\"><div style=\"display: table-row;\"><div style=\"display: table-cell;\"><b title=\"bokeh.models.layouts.Column\">Column</b>(</div><div style=\"display: table-cell;\">id&nbsp;=&nbsp;'1a36a9c4-1798-441d-993e-7f5d130f02c1', <span id=\"3fac2cf7-ea04-4638-8123-90463b185563\" style=\"cursor: pointer;\">&hellip;)</span></div></div><div class=\"b115e6f4-f9a8-4a16-ae54-aba99b6ca1e9\" style=\"display: none;\"><div style=\"display: table-cell;\"></div><div style=\"display: table-cell;\">children&nbsp;=&nbsp;[ToolbarBox(id='aa677484-3689-40a2-b8ee-1e3a671bbca7', ...), Column(id='18655937-88ef-4ccc-a9d2-589145f6500c', ...)],</div></div><div class=\"b115e6f4-f9a8-4a16-ae54-aba99b6ca1e9\" style=\"display: none;\"><div style=\"display: table-cell;\"></div><div style=\"display: table-cell;\">css_classes&nbsp;=&nbsp;None,</div></div><div class=\"b115e6f4-f9a8-4a16-ae54-aba99b6ca1e9\" style=\"display: none;\"><div style=\"display: table-cell;\"></div><div style=\"display: table-cell;\">disabled&nbsp;=&nbsp;False,</div></div><div class=\"b115e6f4-f9a8-4a16-ae54-aba99b6ca1e9\" style=\"display: none;\"><div style=\"display: table-cell;\"></div><div style=\"display: table-cell;\">height&nbsp;=&nbsp;None,</div></div><div class=\"b115e6f4-f9a8-4a16-ae54-aba99b6ca1e9\" style=\"display: none;\"><div style=\"display: table-cell;\"></div><div style=\"display: table-cell;\">js_event_callbacks&nbsp;=&nbsp;{},</div></div><div class=\"b115e6f4-f9a8-4a16-ae54-aba99b6ca1e9\" style=\"display: none;\"><div style=\"display: table-cell;\"></div><div style=\"display: table-cell;\">js_property_callbacks&nbsp;=&nbsp;{},</div></div><div class=\"b115e6f4-f9a8-4a16-ae54-aba99b6ca1e9\" style=\"display: none;\"><div style=\"display: table-cell;\"></div><div style=\"display: table-cell;\">name&nbsp;=&nbsp;None,</div></div><div class=\"b115e6f4-f9a8-4a16-ae54-aba99b6ca1e9\" style=\"display: none;\"><div style=\"display: table-cell;\"></div><div style=\"display: table-cell;\">sizing_mode&nbsp;=&nbsp;'fixed',</div></div><div class=\"b115e6f4-f9a8-4a16-ae54-aba99b6ca1e9\" style=\"display: none;\"><div style=\"display: table-cell;\"></div><div style=\"display: table-cell;\">subscribed_events&nbsp;=&nbsp;[],</div></div><div class=\"b115e6f4-f9a8-4a16-ae54-aba99b6ca1e9\" style=\"display: none;\"><div style=\"display: table-cell;\"></div><div style=\"display: table-cell;\">tags&nbsp;=&nbsp;[],</div></div><div class=\"b115e6f4-f9a8-4a16-ae54-aba99b6ca1e9\" style=\"display: none;\"><div style=\"display: table-cell;\"></div><div style=\"display: table-cell;\">width&nbsp;=&nbsp;None)</div></div></div>\n",
       "<script>\n",
       "(function() {\n",
       "  var expanded = false;\n",
       "  var ellipsis = document.getElementById(\"3fac2cf7-ea04-4638-8123-90463b185563\");\n",
       "  ellipsis.addEventListener(\"click\", function() {\n",
       "    var rows = document.getElementsByClassName(\"b115e6f4-f9a8-4a16-ae54-aba99b6ca1e9\");\n",
       "    for (var i = 0; i < rows.length; i++) {\n",
       "      var el = rows[i];\n",
       "      el.style.display = expanded ? \"none\" : \"table-row\";\n",
       "    }\n",
       "    ellipsis.innerHTML = expanded ? \"&hellip;)\" : \"&lsaquo;&lsaquo;&lsaquo;\";\n",
       "    expanded = !expanded;\n",
       "  });\n",
       "})();\n",
       "</script>\n"
      ],
      "text/plain": [
       "Column(id='1a36a9c4-1798-441d-993e-7f5d130f02c1', ...)"
      ]
     },
     "execution_count": 29,
     "metadata": {},
     "output_type": "execute_result"
    }
   ],
   "source": [
    "%matplotlib inline\n",
    "visualize([prof, rprof,cprof], min_border_top=15, min_border_bottom=15)"
   ]
  }
 ],
 "metadata": {
  "anaconda-cloud": {},
  "kernelspec": {
   "display_name": "Python [Root]",
   "language": "python",
   "name": "Python [Root]"
  },
  "language_info": {
   "codemirror_mode": {
    "name": "ipython",
    "version": 3
   },
   "file_extension": ".py",
   "mimetype": "text/x-python",
   "name": "python",
   "nbconvert_exporter": "python",
   "pygments_lexer": "ipython3",
   "version": "3.5.2"
  }
 },
 "nbformat": 4,
 "nbformat_minor": 1
}

{
 "cells": [
  {
   "cell_type": "code",
   "execution_count": 1,
   "metadata": {
    "collapsed": true
   },
   "outputs": [],
   "source": [
    "import numpy as np\n",
    "import matplotlib.pyplot as plt\n",
    "from netCDF4 import Dataset\n",
    "import glob\n",
    "from datetime import datetime, timedelta\n",
    "import pandas as pd\n",
    "\n",
    "%matplotlib inline"
   ]
  },
  {
   "cell_type": "code",
   "execution_count": 2,
   "metadata": {
    "collapsed": false
   },
   "outputs": [],
   "source": [
    "xl = pd.ExcelFile(\"C:/computer_harddrive/From CHINA/bio_1506030731176600/BIGELOW/BALCH/GREAT_BELT/archive/bigelow.xlsx\")\n",
    "df = xl.parse(\"data\")\n",
    "df = df.replace(-999.0, np.nan)\n",
    "df.head()\n",
    "\n",
    "result=np.zeros((2,1))"
   ]
  },
  {
   "cell_type": "code",
   "execution_count": 9,
   "metadata": {
    "collapsed": false,
    "scrolled": true
   },
   "outputs": [],
   "source": [
    "#read satellite image\n",
    "#read the whole list and specify the file name\n",
    "nc = glob.glob(\"C:/computer_harddrive/From CHINA/bio_1506030731176600/BIGELOW/BALCH/GREAT_BELT/archive/bbp_MODISA/*.nc\")\n",
    "for file in nc:\n",
    "    date = file[104:106]\n",
    "    datest = datetime(2012, 1, 1) + timedelta(int(date) - 1)\n",
    "    dat = datest.strftime(\"%Y%m%d\")\n",
    "    sub = df[df['date']==int(dat)]\n",
    "    \n",
    "    x = ((sub['lon']+180)/(360./8640)).values\n",
    "    y = ((sub['lat']+90)/(180./4320)).values\n",
    "    z = sub['bbp532']\n",
    "    \n",
    "    data = Dataset(file, mode='r')\n",
    "\n",
    "    lons = data.variables['lon'][:]\n",
    "    lats = data.variables['lat'][:]\n",
    "    bbp = data.variables['bbp_443_giop'][:]\n",
    "    data.close()\n",
    "    \n",
    "    xx=x.astype(int)\n",
    "    yy=y.astype(int)\n",
    "    zz=bbp[yy,xx]\n",
    "    \n",
    "    txt=np.vstack((z,zz))\n",
    "    result=np.hstack((result,txt))\n",
    "    \n",
    "np.savetxt('C:/computer_harddrive/From CHINA/bio_1506030731176600/BIGELOW/BALCH/GREAT_BELT/archive/test.txt', result, delimiter=',')   # X is an array"
   ]
  },
  {
   "cell_type": "code",
   "execution_count": 10,
   "metadata": {
    "collapsed": false
   },
   "outputs": [],
   "source": []
  }
 ],
 "metadata": {
  "anaconda-cloud": {},
  "kernelspec": {
   "display_name": "Python [conda root]",
   "language": "python",
   "name": "conda-root-py"
  },
  "language_info": {
   "codemirror_mode": {
    "name": "ipython",
    "version": 3
   },
   "file_extension": ".py",
   "mimetype": "text/x-python",
   "name": "python",
   "nbconvert_exporter": "python",
   "pygments_lexer": "ipython3",
   "version": "3.5.2"
  }
 },
 "nbformat": 4,
 "nbformat_minor": 1
}

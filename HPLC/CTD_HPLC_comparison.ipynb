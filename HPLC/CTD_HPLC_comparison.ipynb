{
 "cells": [
  {
   "cell_type": "code",
   "execution_count": 130,
   "metadata": {
    "collapsed": true
   },
   "outputs": [],
   "source": [
    "import numpy as np\n",
    "import matplotlib.pyplot as plt\n",
    "import pandas as pd\n",
    "\n",
    "%matplotlib inline"
   ]
  },
  {
   "cell_type": "code",
   "execution_count": 188,
   "metadata": {
    "collapsed": false
   },
   "outputs": [
    {
     "data": {
      "text/plain": [
       "'2011-26'"
      ]
     },
     "execution_count": 188,
     "metadata": {},
     "output_type": "execute_result"
    }
   ],
   "source": [
    "#read into cruise data \n",
    "ctd = pd.read_csv(\"C:/computer_harddrive/HPLC_history/cruise_ctd/2011-26-che-cruise.csv\",skiprows=61,na_values=-99)\n",
    "ctd.head()\n",
    "\n",
    "#record the cruise name\n",
    "cruise_name=ctd.iloc[2,0][:7]\n",
    "cruise_name"
   ]
  },
  {
   "cell_type": "code",
   "execution_count": 191,
   "metadata": {
    "collapsed": false
   },
   "outputs": [
    {
     "name": "stdout",
     "output_type": "stream",
     "text": [
      "P4\n",
      "P5\n",
      "P6\n"
     ]
    }
   ],
   "source": [
    "#read into HPLC data \n",
    "ctdmean=np.zeros(31)\n",
    "ctdstd=np.zeros(31)\n",
    "xl = pd.ExcelFile(\"C:/computer_harddrive/HPLC_history/LineP_satellite_coverage_AP.xlsx\")\n",
    "hplc = xl.parse(\"HPLC-pigments\")\n",
    "hplc.head()\n",
    "\n",
    "#get the same cruise name row\n",
    "sub = hplc[hplc['Cruise']==cruise_name]\n",
    "\n",
    "#loop into each row\n",
    "for inx, row in sub.iterrows():\n",
    "    #go back to find the station name from the cruise CTD\n",
    "    #average the data after removing the missing one\n",
    "    sub_ctd=ctd[(ctd['LOC:STATION']==row['Station']) & (ctd['Pressure:CTD [dbar]']<6)\n",
    "           & (ctd['Pressure:CTD [dbar]']>4)]\n",
    "    #record CTD data back to HPLC file\n",
    "    #check if sub_ctd empty\n",
    "    if len(sub_ctd)>0:\n",
    "        print(row['Station'])\n",
    "        ctdmean=np.vstack((ctdmean,(sub_ctd.mean(axis=0,skipna=1).values)))\n",
    "        ctdstd=np.vstack((ctdstd,(sub_ctd.std(axis=0,skipna=1).values)))"
   ]
  },
  {
   "cell_type": "code",
   "execution_count": 193,
   "metadata": {
    "collapsed": false
   },
   "outputs": [
    {
     "data": {
      "text/plain": [
       "LOC:EVENT_NUMBER                            18.00000\n",
       "LOC:LATITUDE                                48.74434\n",
       "LOC:LONGITUDE                             -127.66750\n",
       "Sample_Number                              168.00000\n",
       "Bottle_Number                                2.00000\n",
       "Bottle:Firing_Sequence                       2.00000\n",
       "Pressure:CTD [dbar]                          4.60000\n",
       "Temperature:CTD [deg_C_(ITS90)]             11.64390\n",
       "Salinity:Practical:CTD                      32.34770\n",
       "Sigma-t:CTD [kg/m^3]                        24.62150\n",
       "Transmissivity:CTD [*/m]                    52.10000\n",
       "Oxygen:Dissolved:CTD:Volume [ml/l]           6.58000\n",
       "Oxygen:Dissolved:CTD:Mass [µmol/kg]        286.70000\n",
       "Fluorescence:CTD:Wetlabs [mg/m^3]            0.33500\n",
       "PAR:CTD [µE/m^2/sec]                             NaN\n",
       "Salinity:Bottle [PSS-78]                    32.38880\n",
       "Flag:Salinity:Bottle                         3.00000\n",
       "Oxygen:Dissolved:Bottle:Volume [ml/l]            NaN\n",
       "Oxygen:Dissolved:Bottle:Mass [µmol/kg]           NaN\n",
       "Flag:Oxygen:Dissolved:Bottle                     NaN\n",
       "Nitrate_plus_Nitrite:Bottle [µmol/l]         1.70000\n",
       "Flag:Nitrate_plus_Nitrite:Bottle                 NaN\n",
       "Phosphate:Bottle [µmol/l]                    0.55000\n",
       "Flag:Phosphate:Bottle                            NaN\n",
       "Silicate:Bottle [µmol/l]                     5.50000\n",
       "Flag:Silicate:Bottle                             NaN\n",
       "Chlorophyll:Extracted:Bottle                 0.50000\n",
       "Flag:Chlorophyll:Extracted:Bottle                NaN\n",
       "Phaeo-Pigment:Extracted:Bottle [mg/m^3]      0.04000\n",
       "Dimethyl_Sulphide:Bottle [nmol/l]                NaN\n",
       "Flag:Dimethyl_Sulphide:Bottle                    NaN\n",
       "dtype: float64"
      ]
     },
     "execution_count": 193,
     "metadata": {},
     "output_type": "execute_result"
    }
   ],
   "source": [
    "sub_ctd.mean(axis=0,skipna=1)"
   ]
  },
  {
   "cell_type": "code",
   "execution_count": 192,
   "metadata": {
    "collapsed": false
   },
   "outputs": [],
   "source": [
    "np.savetxt('C:/computer_harddrive/HPLC_history/mean.out', ctdmean[1:,:],delimiter=',')   # X is an array\n",
    "np.savetxt('C:/computer_harddrive/HPLC_history/std.out', ctdstd[1:,:],delimiter=',')   # X is an array"
   ]
  }
 ],
 "metadata": {
  "anaconda-cloud": {},
  "kernelspec": {
   "display_name": "Python [default]",
   "language": "python",
   "name": "python3"
  },
  "language_info": {
   "codemirror_mode": {
    "name": "ipython",
    "version": 3
   },
   "file_extension": ".py",
   "mimetype": "text/x-python",
   "name": "python",
   "nbconvert_exporter": "python",
   "pygments_lexer": "ipython3",
   "version": "3.5.2"
  }
 },
 "nbformat": 4,
 "nbformat_minor": 1
}

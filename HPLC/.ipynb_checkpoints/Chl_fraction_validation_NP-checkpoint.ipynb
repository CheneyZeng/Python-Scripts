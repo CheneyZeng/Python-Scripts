{
 "cells": [
  {
   "cell_type": "code",
   "execution_count": 6,
   "metadata": {
    "collapsed": true
   },
   "outputs": [],
   "source": [
    "import matplotlib.pyplot as plt\n",
    "import numpy as np\n",
    "import seaborn as sns\n",
    "import pandas as pd\n",
    "\n",
    "%matplotlib inline"
   ]
  },
  {
   "cell_type": "code",
   "execution_count": 7,
   "metadata": {
    "collapsed": true
   },
   "outputs": [],
   "source": [
    "thre = 0.08"
   ]
  },
  {
   "cell_type": "code",
   "execution_count": 8,
   "metadata": {
    "collapsed": false
   },
   "outputs": [],
   "source": [
    "#read in as pandas (I quite like Pandas, working amazingly)\n",
    "xl = pd.ExcelFile(\"C:/computer_harddrive/2017_oceanus/hplc/Cruise_chlorophyll.xlsx\")\n",
    "df = xl.parse(\"sub table for Cruise\")\n",
    "df['std']=df['chl_std']/df['chl_total']\n",
    "sub = df[df['std']<thre]\n",
    "\n",
    "oceanus_chl=sub['chl_total']\n",
    "oceanus_micro=sub['micro%']\n",
    "oceanus_std=sub['std']"
   ]
  },
  {
   "cell_type": "code",
   "execution_count": 9,
   "metadata": {
    "collapsed": false
   },
   "outputs": [],
   "source": [
    "#read in as pandas (I quite like Pandas, working amazingly)\n",
    "xl = pd.ExcelFile(\"C:/computer_harddrive/2017_mayjune/Chl_fraction_2017MayJune.xlsx\")\n",
    "df = xl.parse(\"Lap\")\n",
    "df['std']=df['chl-std']/df['total-chl']\n",
    "sub = df[df['std']<thre]\n",
    "\n",
    "lap56_chl=sub['total-chl']\n",
    "lap56_micro=sub['final_micro']\n",
    "lap56_std=sub['std']"
   ]
  },
  {
   "cell_type": "code",
   "execution_count": 10,
   "metadata": {
    "collapsed": false
   },
   "outputs": [],
   "source": [
    "#read in as pandas (I quite like Pandas, working amazingly)\n",
    "xl = pd.ExcelFile(\"C:/computer_harddrive/2017_mayjune/Chl_fraction_2017MayJune.xlsx\")\n",
    "df = xl.parse(\"Lip\")\n",
    "df['std']=df['std-total']/df['chl-total']\n",
    "sub = df[df['std']<thre]\n",
    "\n",
    "lip56_chl=sub['chl-total']\n",
    "lip56_micro=sub['final-micro%']\n",
    "lip56_std=sub['std']"
   ]
  },
  {
   "cell_type": "code",
   "execution_count": 11,
   "metadata": {
    "collapsed": false
   },
   "outputs": [],
   "source": [
    "#read in as pandas (I quite like Pandas, working amazingly)\n",
    "xl = pd.ExcelFile(\"C:/computer_harddrive/2017_aug/Chl_fraction_2017Aug.xlsx\")\n",
    "df = xl.parse(\"Lap\")\n",
    "df['std']=df['std-total']/df['chl-total']\n",
    "sub = df[df['std']<thre]\n",
    "\n",
    "lap9_chl=sub['chl-total']\n",
    "lap9_micro=sub['final-micro%']\n",
    "lap9_std=sub['std']"
   ]
  },
  {
   "cell_type": "code",
   "execution_count": 12,
   "metadata": {
    "collapsed": false
   },
   "outputs": [],
   "source": [
    "#read in as pandas (I quite like Pandas, working amazingly)\n",
    "xl = pd.ExcelFile(\"C:/computer_harddrive/2017_aug/Chl_fraction_2017Aug.xlsx\")\n",
    "df = xl.parse(\"Lip\")\n",
    "df['std']=df['std-total']/df['chl-total']\n",
    "sub = df[df['std']<thre]\n",
    "\n",
    "lip8_chl=sub['chl-total']\n",
    "lip8_micro=sub['final-micro%']\n",
    "lip8_std=sub['std']"
   ]
  },
  {
   "cell_type": "code",
   "execution_count": 13,
   "metadata": {
    "collapsed": true
   },
   "outputs": [],
   "source": [
    "#build the chl-a fraction model\n",
    "# Hirata's model\n",
    "y = np.arange(0.1, 100, 0.1)\n",
    "x = np.log10(y)\n",
    "micro = 1./ (0.9117 + np.exp (-2.7330* x + 0.4003)) #Micro"
   ]
  },
  {
   "cell_type": "code",
   "execution_count": 14,
   "metadata": {
    "collapsed": false
   },
   "outputs": [
    {
     "data": {
      "text/plain": [
       "<matplotlib.text.Text at 0x19f2067d358>"
      ]
     },
     "execution_count": 14,
     "metadata": {},
     "output_type": "execute_result"
    },
    {
     "data": {
      "image/png": "[encoded data removed]",
      "text/plain": [
       "<matplotlib.figure.Figure at 0x19f2062b518>"
      ]
     },
     "metadata": {},
     "output_type": "display_data"
    }
   ],
   "source": [
    "#plot\n",
    "sns.set_style(\"ticks\")\n",
    "fig = plt.figure(figsize=(4, 4))\n",
    "\n",
    "plt.fill_between(y, micro-0.15, micro+0.15, color='grey', alpha=0.5)\n",
    "plt.plot(y, micro, \"r--\",c='black')#, label='chl-based Micro%'\n",
    "plt.errorbar(oceanus_chl, oceanus_micro/100, yerr=oceanus_std,label='Oceanus',fmt=\"o\",zorder=0)\n",
    "plt.errorbar(lap56_chl, lap56_micro/100, yerr=lap56_std,label='LAP Spring',fmt=\"d\",zorder=0)\n",
    "plt.errorbar(lip56_chl, lip56_micro/100, yerr=lip56_std,label='LIP Spring',fmt=\"s\",zorder=0)\n",
    "plt.errorbar(lap9_chl, lap9_micro, yerr=lap9_std,label='LAP Summer',fmt=\"p\",zorder=0)\n",
    "plt.errorbar(lip8_chl, lip8_micro/100, yerr=lip8_std,label='LIP Summer',fmt=\"*\",zorder=0)\n",
    "\n",
    "plt.xscale('log')\n",
    "plt.ylim([0, 1])\n",
    "plt.xlim([0.1, 10])\n",
    "plt.legend(loc='upper left')#[sc, pt]\n",
    "plt.minorticks_on()\n",
    "plt.xlabel('[Chl-a]')\n",
    "plt.ylabel('Micro%')"
   ]
  },
  {
   "cell_type": "code",
   "execution_count": 32,
   "metadata": {
    "collapsed": false
   },
   "outputs": [],
   "source": [
    "x = np.delete(x,[1,3])"
   ]
  },
  {
   "cell_type": "code",
   "execution_count": 34,
   "metadata": {
    "collapsed": false
   },
   "outputs": [],
   "source": [
    "y = np.delete(y,[1,3])"
   ]
  },
  {
   "cell_type": "code",
   "execution_count": 24,
   "metadata": {
    "collapsed": false
   },
   "outputs": [],
   "source": [
    "x=np.concatenate((oceanus_chl.values,lap56_chl.values,\n",
    "                lip56_chl.values,lap9_chl.values,\n",
    "                lip8_chl.values))\n",
    "micro = 1./ (0.9117 + np.exp (-2.7330* x + 0.4003)) #Micro\n",
    "y=np.concatenate((oceanus_micro/100,lap56_micro/100,\n",
    "                 lip56_micro/100,lap9_micro,\n",
    "                 lip8_micro/100))"
   ]
  },
  {
   "cell_type": "code",
   "execution_count": 38,
   "metadata": {
    "collapsed": false
   },
   "outputs": [
    {
     "data": {
      "text/plain": [
       "0.7288968102182104"
      ]
     },
     "execution_count": 38,
     "metadata": {},
     "output_type": "execute_result"
    }
   ],
   "source": [
    "import scipy\n",
    "mask = ~np.isnan(x) & ~np.isnan(y)\n",
    "slope, intercept, r_value, p_value, std_err = scipy.stats.linregress(x[mask], y[mask])\n",
    "#np.sqrt(std_err)\n",
    "r_value"
   ]
  }
 ],
 "metadata": {
  "anaconda-cloud": {},
  "kernelspec": {
   "display_name": "Python [Root]",
   "language": "python",
   "name": "Python [Root]"
  },
  "language_info": {
   "codemirror_mode": {
    "name": "ipython",
    "version": 3
   },
   "file_extension": ".py",
   "mimetype": "text/x-python",
   "name": "python",
   "nbconvert_exporter": "python",
   "pygments_lexer": "ipython3",
   "version": "3.5.2"
  }
 },
 "nbformat": 4,
 "nbformat_minor": 1
}

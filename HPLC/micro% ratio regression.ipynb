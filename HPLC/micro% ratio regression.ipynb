{
 "cells": [
  {
   "cell_type": "code",
   "execution_count": 1,
   "metadata": {
    "collapsed": true
   },
   "outputs": [],
   "source": [
    "import numpy as np\n",
    "import matplotlib.pyplot as plt\n",
    "import pandas as pd\n",
    "\n",
    "%matplotlib inline"
   ]
  },
  {
   "cell_type": "code",
   "execution_count": 41,
   "metadata": {
    "collapsed": false
   },
   "outputs": [
    {
     "data": {
      "text/html": [
       "<div>\n",
       "<table border=\"1\" class=\"dataframe\">\n",
       "  <thead>\n",
       "    <tr style=\"text-align: right;\">\n",
       "      <th></th>\n",
       "      <th>Original PI Sample Label</th>\n",
       "      <th>Sequential Day of Year</th>\n",
       "      <th>GMT Time</th>\n",
       "      <th>Longitude</th>\n",
       "      <th>Latitude</th>\n",
       "      <th>Tot_Chl_a</th>\n",
       "      <th>Fuco</th>\n",
       "      <th>Perid</th>\n",
       "      <th>Hex</th>\n",
       "      <th>Allo</th>\n",
       "      <th>But</th>\n",
       "      <th>Chl_b</th>\n",
       "      <th>Zea</th>\n",
       "      <th>DP</th>\n",
       "    </tr>\n",
       "  </thead>\n",
       "  <tbody>\n",
       "    <tr>\n",
       "      <th>0</th>\n",
       "      <td>NPAC_HPLC_002</td>\n",
       "      <td>193</td>\n",
       "      <td>19:46:00</td>\n",
       "      <td>56.856051</td>\n",
       "      <td>-145.009177</td>\n",
       "      <td>0.406</td>\n",
       "      <td>0.066</td>\n",
       "      <td>0.012</td>\n",
       "      <td>0.153</td>\n",
       "      <td>0.005</td>\n",
       "      <td>0.046</td>\n",
       "      <td>0.020</td>\n",
       "      <td>0.009</td>\n",
       "      <td>0.35133</td>\n",
       "    </tr>\n",
       "    <tr>\n",
       "      <th>1</th>\n",
       "      <td>NPAC_HPLC_003</td>\n",
       "      <td>194</td>\n",
       "      <td>14:28:00</td>\n",
       "      <td>55.506606</td>\n",
       "      <td>-145.009927</td>\n",
       "      <td>0.281</td>\n",
       "      <td>0.065</td>\n",
       "      <td>0.010</td>\n",
       "      <td>0.101</td>\n",
       "      <td>0.004</td>\n",
       "      <td>0.032</td>\n",
       "      <td>0.010</td>\n",
       "      <td>0.003</td>\n",
       "      <td>0.26030</td>\n",
       "    </tr>\n",
       "    <tr>\n",
       "      <th>2</th>\n",
       "      <td>NPAC_HPLC_006</td>\n",
       "      <td>195</td>\n",
       "      <td>03:04:00</td>\n",
       "      <td>55.220081</td>\n",
       "      <td>-141.342119</td>\n",
       "      <td>0.390</td>\n",
       "      <td>0.051</td>\n",
       "      <td>0.012</td>\n",
       "      <td>0.164</td>\n",
       "      <td>0.012</td>\n",
       "      <td>0.039</td>\n",
       "      <td>0.027</td>\n",
       "      <td>0.008</td>\n",
       "      <td>0.35211</td>\n",
       "    </tr>\n",
       "    <tr>\n",
       "      <th>3</th>\n",
       "      <td>NPAC_HPLC_007</td>\n",
       "      <td>195</td>\n",
       "      <td>06:00:00</td>\n",
       "      <td>55.166045</td>\n",
       "      <td>-140.647076</td>\n",
       "      <td>0.429</td>\n",
       "      <td>0.104</td>\n",
       "      <td>0.013</td>\n",
       "      <td>0.141</td>\n",
       "      <td>0.009</td>\n",
       "      <td>0.030</td>\n",
       "      <td>0.040</td>\n",
       "      <td>0.014</td>\n",
       "      <td>0.41238</td>\n",
       "    </tr>\n",
       "    <tr>\n",
       "      <th>4</th>\n",
       "      <td>NPAC_HPLC_009</td>\n",
       "      <td>195</td>\n",
       "      <td>13:56:00</td>\n",
       "      <td>55.006028</td>\n",
       "      <td>-138.592163</td>\n",
       "      <td>0.658</td>\n",
       "      <td>0.087</td>\n",
       "      <td>0.030</td>\n",
       "      <td>0.308</td>\n",
       "      <td>0.012</td>\n",
       "      <td>0.059</td>\n",
       "      <td>0.043</td>\n",
       "      <td>0.010</td>\n",
       "      <td>0.63601</td>\n",
       "    </tr>\n",
       "  </tbody>\n",
       "</table>\n",
       "</div>"
      ],
      "text/plain": [
       "  Original PI Sample Label  Sequential Day of Year  GMT Time  Longitude  \\\n",
       "0            NPAC_HPLC_002                     193  19:46:00  56.856051   \n",
       "1            NPAC_HPLC_003                     194  14:28:00  55.506606   \n",
       "2            NPAC_HPLC_006                     195  03:04:00  55.220081   \n",
       "3            NPAC_HPLC_007                     195  06:00:00  55.166045   \n",
       "4            NPAC_HPLC_009                     195  13:56:00  55.006028   \n",
       "\n",
       "     Latitude  Tot_Chl_a   Fuco  Perid    Hex   Allo    But  Chl_b    Zea  \\\n",
       "0 -145.009177      0.406  0.066  0.012  0.153  0.005  0.046  0.020  0.009   \n",
       "1 -145.009927      0.281  0.065  0.010  0.101  0.004  0.032  0.010  0.003   \n",
       "2 -141.342119      0.390  0.051  0.012  0.164  0.012  0.039  0.027  0.008   \n",
       "3 -140.647076      0.429  0.104  0.013  0.141  0.009  0.030  0.040  0.014   \n",
       "4 -138.592163      0.658  0.087  0.030  0.308  0.012  0.059  0.043  0.010   \n",
       "\n",
       "        DP  \n",
       "0  0.35133  \n",
       "1  0.26030  \n",
       "2  0.35211  \n",
       "3  0.41238  \n",
       "4  0.63601  "
      ]
     },
     "execution_count": 41,
     "metadata": {},
     "output_type": "execute_result"
    }
   ],
   "source": [
    "#read pd as hplc, read spec as from txt\n",
    "spec = np.genfromtxt('C:/computer_harddrive/oceanus/HPLC/pigment_hplc/spec.txt',\n",
    "                    delimiter='\\t')\n",
    "xl = pd.ExcelFile(\"C:/computer_harddrive/oceanus/HPLC/pigment_hplc/hplc_pigment.xlsx\")\n",
    "df = xl.parse(\"Sheet1\")\n",
    "df['DP'] = (1.41*df['Fuco']+1.41*df['Perid']+1.27*df['Hex']+0.6*df['Allo']\n",
    "            +0.35*df['But']+1.01*df['Chl_b']+0.86*df['Zea'])\n",
    "df.head()"
   ]
  },
  {
   "cell_type": "code",
   "execution_count": 42,
   "metadata": {
    "collapsed": false
   },
   "outputs": [
    {
     "data": {
      "text/plain": [
       "<matplotlib.text.Text at 0x2953e9e2240>"
      ]
     },
     "execution_count": 42,
     "metadata": {},
     "output_type": "execute_result"
    },
    {
     "data": {
      "image/png": "[encoded data removed]",
      "text/plain": [
       "<matplotlib.figure.Figure at 0x2953e915cc0>"
      ]
     },
     "metadata": {},
     "output_type": "display_data"
    }
   ],
   "source": [
    "from sklearn.linear_model import LinearRegression\n",
    "model = LinearRegression(fit_intercept=True)\n",
    "\n",
    "x = df['DP']\n",
    "y = df['Tot_Chl_a']\n",
    "\n",
    "model.fit(x[:, np.newaxis], y)\n",
    "r = model.score(x[:, np.newaxis], y)\n",
    "xfit = np.linspace(0, 14, 100)\n",
    "yfit = model.predict(xfit[:, np.newaxis])\n",
    "\n",
    "plt.plot(x, y, 'd')\n",
    "plt.plot(xfit, yfit)\n",
    "sr = \"y=%.3fx%.3f, $r^2$=%.3f\" % (model.coef_[0], model.intercept_, r)\n",
    "plt.title(sr, fontsize=16) \n",
    "plt.xlabel('Total Chl a[$mg/m^3$]', fontsize=16)\n",
    "plt.ylabel('DP[$mg/m^3$]', fontsize=16)"
   ]
  },
  {
   "cell_type": "code",
   "execution_count": 124,
   "metadata": {
    "collapsed": false
   },
   "outputs": [],
   "source": [
    "from sklearn.linear_model import LinearRegression\n",
    "model = LinearRegression(fit_intercept=True)\n",
    "\n",
    "micro = 1.4*df['Fuco']/df['DP']\n",
    "r_score = []\n",
    "\n",
    "for i in range(50):\n",
    "    pos = (spec[:,2]/spec[:,137] > 2) & (spec[:,2]/spec[:,137] < 4)\n",
    "    x = spec[pos,i]#/spec[pos,137]\n",
    "    y = micro[pos]\n",
    "\n",
    "    model.fit(x[:, np.newaxis], y)\n",
    "    r = model.score(x[:, np.newaxis], y)\n",
    "    r_score=r_score+[r]\n",
    "    \n"
   ]
  },
  {
   "cell_type": "code",
   "execution_count": 125,
   "metadata": {
    "collapsed": false
   },
   "outputs": [
    {
     "data": {
      "text/plain": [
       "[0.47788424268405783,\n",
       " 0.48072654337146803,\n",
       " 0.48060397171021962,\n",
       " 0.47996159908186631,\n",
       " 0.48163795470916287,\n",
       " 0.48049871267222222,\n",
       " 0.47641407897908639,\n",
       " 0.47103932052605019,\n",
       " 0.46478619051070608,\n",
       " 0.46866078843384257,\n",
       " 0.47249132651588882,\n",
       " 0.47470465382108479,\n",
       " 0.47674785577554507,\n",
       " 0.474569272719369,\n",
       " 0.4718879058584276,\n",
       " 0.4723279864889619,\n",
       " 0.47385003483787702,\n",
       " 0.47351003157841476,\n",
       " 0.47293096633718634,\n",
       " 0.47197424240934882,\n",
       " 0.47096101470054746,\n",
       " 0.46718079541684066,\n",
       " 0.46329453071888083,\n",
       " 0.46278808311463698,\n",
       " 0.46378529452156003,\n",
       " 0.46428785527030542,\n",
       " 0.46428431470437814,\n",
       " 0.46397901190877655,\n",
       " 0.46240662994075643,\n",
       " 0.46102554126204387,\n",
       " 0.46073007709257829,\n",
       " 0.46045325184819863,\n",
       " 0.45947503737600992,\n",
       " 0.458451071958211,\n",
       " 0.4581195381500347,\n",
       " 0.45773873296770595,\n",
       " 0.4567881751982244,\n",
       " 0.45541836486898202,\n",
       " 0.45445302132820664,\n",
       " 0.45461953235317115,\n",
       " 0.45481158986911896,\n",
       " 0.45514892623279302,\n",
       " 0.45550185271561749,\n",
       " 0.45577301673681714,\n",
       " 0.45602356359267815,\n",
       " 0.45635726157713619,\n",
       " 0.45678073496399896,\n",
       " 0.45723477765343384,\n",
       " 0.45776237977185252,\n",
       " 0.45834749265755093]"
      ]
     },
     "execution_count": 125,
     "metadata": {},
     "output_type": "execute_result"
    },
    {
     "data": {
      "image/png": "[encoded data removed]",
      "text/plain": [
       "<matplotlib.figure.Figure at 0x295414de208>"
      ]
     },
     "metadata": {},
     "output_type": "display_data"
    }
   ],
   "source": [
    "pos = (spec[:,2]/spec[:,137] > 2) & (spec[:,2]/spec[:,137] < 4)\n",
    "#plt.plot(spec[pos,40]/spec[pos,137],micro[pos],'.')\n",
    "plt.plot(r_score)\n",
    "r_score"
   ]
  },
  {
   "cell_type": "code",
   "execution_count": 104,
   "metadata": {
    "collapsed": false
   },
   "outputs": [
    {
     "data": {
      "text/plain": [
       "(65, 151)"
      ]
     },
     "execution_count": 104,
     "metadata": {},
     "output_type": "execute_result"
    }
   ],
   "source": [
    "spec.shape"
   ]
  },
  {
   "cell_type": "code",
   "execution_count": 81,
   "metadata": {
    "collapsed": false
   },
   "outputs": [
    {
     "data": {
      "text/plain": [
       "[<matplotlib.lines.Line2D at 0x2953fc479b0>]"
      ]
     },
     "execution_count": 81,
     "metadata": {},
     "output_type": "execute_result"
    },
    {
     "data": {
      "image/png": "[encoded data removed]",
      "text/plain": [
       "<matplotlib.figure.Figure at 0x2953fbfeeb8>"
      ]
     },
     "metadata": {},
     "output_type": "display_data"
    }
   ],
   "source": [
    "plt.plot(y)"
   ]
  }
 ],
 "metadata": {
  "kernelspec": {
   "display_name": "Python [default]",
   "language": "python",
   "name": "python3"
  },
  "language_info": {
   "codemirror_mode": {
    "name": "ipython",
    "version": 3
   },
   "file_extension": ".py",
   "mimetype": "text/x-python",
   "name": "python",
   "nbconvert_exporter": "python",
   "pygments_lexer": "ipython3",
   "version": "3.5.2"
  }
 },
 "nbformat": 4,
 "nbformat_minor": 1
}
